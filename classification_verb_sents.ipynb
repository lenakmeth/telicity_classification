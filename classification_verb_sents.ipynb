{
 "cells": [
  {
   "cell_type": "code",
   "execution_count": 20,
   "metadata": {},
   "outputs": [],
   "source": [
    "import torch\n",
    "from transformers import BertForSequenceClassification, RobertaForSequenceClassification, \\\n",
    "AlbertForSequenceClassification, XLNetForSequenceClassification, CamembertForSequenceClassification, \\\n",
    "FlaubertForSequenceClassification, AdamW, get_linear_schedule_with_warmup, \\\n",
    "BertTokenizer, RobertaTokenizer, AlbertTokenizer, XLNetTokenizer, CamembertTokenizer, FlaubertTokenizer\n",
    "from sklearn.metrics import classification_report\n",
    "from torch.utils.data import TensorDataset, DataLoader, RandomSampler, SequentialSampler\n",
    "import torch.nn.functional as F\n",
    "from torch.autograd import Variable\n",
    "import random\n",
    "import numpy as np\n",
    "import time\n",
    "import seaborn as sns\n",
    "import matplotlib.pyplot as plt\n",
    "from nltk.stem import WordNetLemmatizer\n",
    "import matplotlib.pyplot as plt\n",
    "  \n",
    "lemmatizer = WordNetLemmatizer()"
   ]
  },
  {
   "cell_type": "code",
   "execution_count": 6,
   "metadata": {},
   "outputs": [],
   "source": [
    "def tokenize_and_pad(transformer_model, sentences):\n",
    "    \"\"\" We are using .encode_plus. This does not make specialized attn masks \n",
    "        like in our selectional preferences experiment. Revert to .encode if\n",
    "        necessary.\"\"\"\n",
    "    \n",
    "    input_ids = []\n",
    "    segment_ids = [] # token type ids\n",
    "    attention_masks = []\n",
    "    \n",
    "    if transformer_model.split(\"-\")[0] == 'bert':\n",
    "        tok = BertTokenizer.from_pretrained(transformer_model)\n",
    "    elif transformer_model.split(\"-\")[0] == 'roberta':\n",
    "        tok = RobertaTokenizer.from_pretrained(transformer_model)\n",
    "    elif transformer_model.split(\"-\")[0] == 'albert':\n",
    "        tok = AlbertTokenizer.from_pretrained(transformer_model)\n",
    "    elif transformer_model.split(\"-\")[0] == 'xlnet':\n",
    "        tok = XLNetTokenizer.from_pretrained(transformer_model)\n",
    "    elif 'camembert' in transformer_model:\n",
    "        tok = CamembertTokenizer.from_pretrained(transformer_model)\n",
    "    elif 'flaubert' in transformer_model:\n",
    "        tok = FlaubertTokenizer.from_pretrained(transformer_model)\n",
    "\n",
    "    for sent in sentences:\n",
    "        sentence = sent[0]\n",
    "\n",
    "        # encode_plus is a prebuilt function that will make input_ids, \n",
    "        # add padding/truncate, add special tokens, + make attention masks \n",
    "        encoded_dict = tok.encode_plus(\n",
    "                        sentence,                      \n",
    "                        add_special_tokens = True, # Add '[CLS]' and '[SEP]'\n",
    "                        max_length = 128,      # Pad & truncate all sentences.\n",
    "                        padding = 'max_length',\n",
    "                        truncation = True,\n",
    "                        return_attention_mask = True, # Construct attn. masks.\n",
    "                        # return_tensors = 'pt',     # Return pytorch tensors.\n",
    "                   )\n",
    "\n",
    "        # Add the encoded sentence to the list.\n",
    "        input_ids.append(encoded_dict['input_ids'])\n",
    "\n",
    "        # Add segment ids, add 1 for verb idx\n",
    "        segment_id = encoded_dict['token_type_ids']\n",
    "        segment_id[sent[2]] = 1\n",
    "        segment_ids.append(segment_id)\n",
    "\n",
    "        attention_masks.append(encoded_dict['attention_mask'])\n",
    "\n",
    "    return input_ids, attention_masks, segment_ids\n",
    "\n",
    "\n",
    "def decode_result(transformer_model, encoded_sequence):\n",
    "\n",
    "    if transformer_model.split(\"-\")[0] == 'bert':\n",
    "        tok = BertTokenizer.from_pretrained(transformer_model)\n",
    "    elif transformer_model.split(\"-\")[0] == 'roberta':\n",
    "        tok = RobertaTokenizer.from_pretrained(transformer_model)\n",
    "    elif transformer_model.split(\"-\")[0] == 'albert':\n",
    "        tok = AlbertTokenizer.from_pretrained(transformer_model)\n",
    "    elif transformer_model.split(\"-\")[0] == 'xlnet':\n",
    "        tok = XLNetTokenizer.from_pretrained(transformer_model)\n",
    "    elif 'camembert' in transformer_model:\n",
    "        tok = CamembertTokenizer.from_pretrained(transformer_model)\n",
    "    elif 'flaubert' in transformer_model:\n",
    "        tok = FlaubertTokenizer.from_pretrained(transformer_model)\n",
    "    \n",
    "    # decode + remove special tokens\n",
    "    tokens_to_remove = ['[PAD]', '<pad>', '<s>', '</s>']\n",
    "    decoded_sequence = [w.replace('Ġ', '').replace('▁', '').replace('</w>', '')\n",
    "                        for w in list(tok.convert_ids_to_tokens(encoded_sequence))\n",
    "                        if not w.strip() in tokens_to_remove]\n",
    "    \n",
    "    return decoded_sequence"
   ]
  },
  {
   "cell_type": "code",
   "execution_count": 127,
   "metadata": {},
   "outputs": [],
   "source": [
    "# load finetuned model\n",
    "\n",
    "tokenizer_model = 'albert-base-v2'\n",
    "verb_segment_ids = 'no'\n",
    "model_save_path = 'checkpoints/friedrich_captions_data/telicity/'\n",
    "\n",
    "if tokenizer_model.split(\"-\")[0] == 'bert':\n",
    "    model = BertForSequenceClassification.from_pretrained(model_save_path + tokenizer_model + '_' + verb_segment_ids)\n",
    "elif tokenizer_model.split(\"-\")[0] == 'roberta':\n",
    "    model = RobertaForSequenceClassification.from_pretrained(model_save_path + tokenizer_model + '_' + verb_segment_ids)\n",
    "elif tokenizer_model.split(\"-\")[0] == 'albert':\n",
    "    model = AlbertForSequenceClassification.from_pretrained(model_save_path + tokenizer_model + '_' + verb_segment_ids)\n",
    "elif tokenizer_model.split(\"-\")[0] == 'xlnet':\n",
    "    model = XLNetForSequenceClassification.from_pretrained(model_save_path + tokenizer_model + '_' + verb_segment_ids)\n",
    "elif 'camembert' in tokenizer_model:\n",
    "    model = CamembertForSequenceClassification.from_pretrained(model_save_path + tokenizer_model + '_' + verb_segment_ids)\n",
    "elif 'flaubert' in tokenizer_model:\n",
    "    model = FlaubertForSequenceClassification.from_pretrained(model_save_path + tokenizer_model + '_' + verb_segment_ids)"
   ]
  },
  {
   "cell_type": "code",
   "execution_count": 128,
   "metadata": {},
   "outputs": [],
   "source": [
    "# open unseen test set\n",
    "\n",
    "test_sentences = {}\n",
    "test_labels = {}\n",
    "    \n",
    "with open('data/unseen_tests/ukwac_telic_sents.tsv', 'r', encoding='utf-8') as f:\n",
    "    for line in f:\n",
    "        l = line.strip().split('\\t')\n",
    "        verb = lemmatizer.lemmatize(l[-3], pos='v')\n",
    "        if verb == 'cutted':\n",
    "            verb = 'cut'\n",
    "        elif verb == 'fell':\n",
    "            verb = 'fall'\n",
    "        if not verb in test_sentences:\n",
    "            test_sentences[verb] = []\n",
    "            test_labels[verb] = []\n",
    "        test_sentences[verb].append([l[1], l[-3], int(l[-2])])\n",
    "        test_labels[verb].append(0)\n",
    "\n",
    "with open('data/unseen_tests/ukwac_atelic_sents.tsv', 'r', encoding='utf-8') as f:\n",
    "    for line in f:\n",
    "        l = line.strip().split('\\t')\n",
    "        verb = lemmatizer.lemmatize(l[-3], pos='v')\n",
    "        if verb == 'felt':\n",
    "            verb = 'feel'\n",
    "        elif verb == 'sitted':\n",
    "            verb = 'sit'\n",
    "        elif verb == 'saw':\n",
    "            verb = 'see'\n",
    "        if not verb in test_sentences:\n",
    "            test_sentences[verb] = []\n",
    "            test_labels[verb] = []\n",
    "        test_sentences[verb].append([l[1], l[-3], int(l[-2])])\n",
    "        test_labels[verb].append(1)"
   ]
  },
  {
   "cell_type": "code",
   "execution_count": 129,
   "metadata": {},
   "outputs": [],
   "source": [
    "# for verb in test_sentences:\n",
    "#     print(verb, '\\t', len(test_sentences[verb]), '\\t', ('telic' if test_labels[verb][0] == 0 else 'atelic'))"
   ]
  },
  {
   "cell_type": "code",
   "execution_count": 130,
   "metadata": {},
   "outputs": [],
   "source": [
    "verb = 'stay'\n",
    "\n",
    "use_segment_ids = False\n",
    "test_inputs, test_masks, test_segments = tokenize_and_pad(tokenizer_model, test_sentences[verb][:100])\n",
    "\n",
    "test_inputs = torch.tensor(test_inputs)\n",
    "test_labels = torch.tensor(test_labels[verb][:100])\n",
    "test_masks = torch.tensor(test_masks)\n",
    "test_segments = torch.tensor(test_segments)"
   ]
  },
  {
   "cell_type": "code",
   "execution_count": 131,
   "metadata": {},
   "outputs": [],
   "source": [
    "# Return attentions for each sentence of the test set, attentions per sentence (not batched per layer)\n",
    "\n",
    "model.eval()\n",
    "\n",
    "all_inputs = []\n",
    "sent_attentions = []\n",
    "sentences = []\n",
    "predicted_labels = []\n",
    "prob_prediction = []\n",
    "\n",
    "for inputs in test_inputs:\n",
    "    \n",
    "    test_input = inputs.resize(1, 128)\n",
    "    \n",
    "    with torch.no_grad():        \n",
    "        outputs = model(test_input, \n",
    "                        token_type_ids=None, \n",
    "                        attention_mask=None)\n",
    "\n",
    "    logits = outputs[0]\n",
    "    logits = logits.detach().cpu().numpy()\n",
    "    attentions = outputs[1]\n",
    "    \n",
    "    log_probs = F.softmax(Variable(torch.from_numpy(logits)), dim=-1)\n",
    "\n",
    "    predicted_labels += np.argmax(logits, axis=1).flatten().tolist()\n",
    "    prob_prediction += log_probs.tolist()\n",
    "    \n",
    "    sentence = decode_result(tokenizer_model, inputs)\n",
    "    sentences.append(sentence)\n",
    "    len_sequence = len(sentence)\n",
    "    \n",
    "    temp_attentions = [] # turn attention to (layer, head, size, size)\n",
    "    \n",
    "    for layer in attentions:\n",
    "        temp = torch.squeeze(layer) #remove dimension of batch size = 1\n",
    "        temp = np.array(temp)[:, :len_sequence, :len_sequence]\n",
    "        temp_attentions.append(temp)\n",
    "        \n",
    "    sent_attentions.append(np.asarray(temp_attentions))"
   ]
  },
  {
   "cell_type": "code",
   "execution_count": 132,
   "metadata": {},
   "outputs": [
    {
     "name": "stdout",
     "output_type": "stream",
     "text": [
      "avg telic: 0.32642980813980105\n",
      "avg atelic: 0.6735702002048493\n"
     ]
    },
    {
     "data": {
      "text/plain": [
       "<matplotlib.legend.Legend at 0x7f7105a06ef0>"
      ]
     },
     "execution_count": 132,
     "metadata": {},
     "output_type": "execute_result"
    },
    {
     "data": {
      "image/png": "[encoded data removed]",
      "text/plain": [
       "<Figure size 432x288 with 1 Axes>"
      ]
     },
     "metadata": {
      "needs_background": "light"
     },
     "output_type": "display_data"
    }
   ],
   "source": [
    "# visualize results\n",
    "\n",
    "all_telic_probs = [x[0] for x in prob_prediction]\n",
    "all_atelic_probs = [x[1] for x in prob_prediction]\n",
    "\n",
    "print('avg telic:', sum(all_telic_probs)/len(all_telic_probs))\n",
    "print('avg atelic:', sum(all_atelic_probs)/len(all_atelic_probs))\n",
    "\n",
    "plt.title('Probabibility of tag for verb: ' + verb)\n",
    "\n",
    "plt.bar(list(range(len(all_telic_probs))), [1 for n in all_telic_probs])\n",
    "plt.bar(list(range(len(all_atelic_probs))), sorted(all_atelic_probs))\n",
    "plt.legend(['telic', 'atelic'])\n",
    "# plt.plot(list(range(len(all_telic_probs))), sorted(all_telic_probs))\n",
    "# plt.plot(list(range(len(all_atelic_probs))), sorted(all_atelic_probs))"
   ]
  },
  {
   "cell_type": "markdown",
   "metadata": {},
   "source": []
  },
  {
   "cell_type": "code",
   "execution_count": null,
   "metadata": {},
   "outputs": [],
   "source": []
  }
 ],
 "metadata": {
  "kernelspec": {
   "display_name": "Python 3",
   "language": "python",
   "name": "python3"
  },
  "language_info": {
   "codemirror_mode": {
    "name": "ipython",
    "version": 3
   },
   "file_extension": ".py",
   "mimetype": "text/x-python",
   "name": "python",
   "nbconvert_exporter": "python",
   "pygments_lexer": "ipython3",
   "version": "3.6.7"
  }
 },
 "nbformat": 4,
 "nbformat_minor": 4
}
