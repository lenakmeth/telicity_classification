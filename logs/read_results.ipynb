{
 "cells": [
  {
   "cell_type": "code",
   "execution_count": 1,
   "metadata": {},
   "outputs": [],
   "source": [
    "# pip install spacy\n",
    "# python -m spacy download en_core_web_sm"
   ]
  },
  {
   "cell_type": "code",
   "execution_count": 1,
   "metadata": {},
   "outputs": [],
   "source": [
    "import os\n",
    "import matplotlib.pyplot as plt\n",
    "import spacy\n",
    "from collections import Counter, OrderedDict\n",
    "import re\n",
    "\n",
    "nlp = spacy.load(\"en_core_web_sm\")"
   ]
  },
  {
   "cell_type": "code",
   "execution_count": 2,
   "metadata": {},
   "outputs": [],
   "source": [
    "# functions to read the log file, needs spacy\n",
    "\n",
    "def find_verb(sent):\n",
    "    \"\"\" Find verb/root, check spacy model for language. \"\"\"\n",
    "    \n",
    "    to_remove = ['[SEP]', '[CLS]', '<pad>']\n",
    "    temp = [x for x in sent.split(' ') if not x in to_remove]\n",
    "    \n",
    "    doc = nlp(' '.join(temp))\n",
    "    head = False\n",
    "    head_idx = False\n",
    "    lemma = False\n",
    "    for num, token in enumerate(doc):\n",
    "        if token.pos_ == 'VERB' and token.dep_ == 'ROOT':\n",
    "            head = token.text\n",
    "            head_idx = num\n",
    "            lemma = token.lemma_\n",
    "    if not head:\n",
    "        for token in doc:\n",
    "            if token.pos_ == 'VERB':\n",
    "                head = token.text\n",
    "                head_idx = num\n",
    "                lemma = token.lemma_\n",
    "    if not head:\n",
    "        for token in doc:\n",
    "            if token.dep_ == 'ROOT':\n",
    "                head = token.text\n",
    "                head_idx = num\n",
    "                lemma = token.lemma_\n",
    "\n",
    "    return head, head_idx, lemma\n",
    "\n",
    "def process_sentence(line):\n",
    "    \n",
    "    l = line.strip().split('\\t')\n",
    "    \n",
    "    if line.startswith('right'):\n",
    "        label = l[0][-1]\n",
    "    else: \n",
    "        label = abs(int(l[0][-1]) -1) # flip the wrong label to right\n",
    "        \n",
    "    probabilities = {0: float(re.search('\\[(.*),', l[1]).group(1)), \n",
    "                     1: float(re.search(',\\s(.*)\\]', l[1]).group(1))}\n",
    "    \n",
    "    temp = re.sub('\\d{1,3}\\sout\\sof\\s\\d{1,3}', '', l[-1])\n",
    "    sentence = temp.strip().replace(' ##', '').replace(' ###', '')\n",
    "    head, head_idx, lemma = find_verb(sentence)\n",
    "    \n",
    "    output = {'sent': sentence, 'label': label, 'probs': probabilities,\n",
    "           'head': head, 'head_idx': head_idx, 'head_lemma': lemma}\n",
    "    \n",
    "    return output"
   ]
  },
  {
   "cell_type": "code",
   "execution_count": 3,
   "metadata": {},
   "outputs": [],
   "source": [
    "# see all the X models for Y trained on Z\n",
    "\n",
    "data_source = 'friedrich_captions_data'\n",
    "marker = 'telicity'\n",
    "model = 'bert-base-uncased'\n",
    "use_segment_ids = 'no'\n",
    "\n",
    "val_sents = {'wrong': [], 'right': []}     # validation set\n",
    "test_sents = {'wrong': [], 'right': []}    # test set from the dataset\n",
    "unseen_sents = {'wrong': [], 'right': []}  # 40 test sentences \n",
    "min_sents = {'wrong': [], 'right': []}     # minimal pairs\n",
    "\n",
    "with open(data_source + '/' + marker + '/' + model + '_' + use_segment_ids + '.log', 'r') as f:\n",
    "\n",
    "    for line in f:\n",
    "        # val sents\n",
    "        if line.startswith('wrong_val:'):\n",
    "            val_sents['wrong'].append(process_sentence(line))\n",
    "        elif line.startswith('right_val:'):\n",
    "            val_sents['right'].append(process_sentence(line))\n",
    "        #test sents\n",
    "        if line.startswith('wrong_seen:'):\n",
    "            test_sents['wrong'].append(process_sentence(line))\n",
    "        elif line.startswith('right_seen:'):\n",
    "            test_sents['right'].append(process_sentence(line))\n",
    "        # 40 test sents\n",
    "        if line.startswith('wrong_unseen:'):\n",
    "            unseen_sents['wrong'].append(process_sentence(line))\n",
    "        elif line.startswith('right_unseen:'):\n",
    "            unseen_sents['right'].append(process_sentence(line))\n",
    "        # min pairs\n",
    "        if line.startswith('wrong_min:'):\n",
    "            min_sents['wrong'].append(process_sentence(line))\n",
    "        elif line.startswith('right_min:'):\n",
    "            min_sents['right'].append(process_sentence(line))\n"
   ]
  },
  {
   "cell_type": "code",
   "execution_count": 4,
   "metadata": {},
   "outputs": [
    {
     "name": "stdout",
     "output_type": "stream",
     "text": [
      "\"Confident\" wrong predictions (show 10):\n",
      "\n",
      "Telic sentences that were predicted as atelic:\n",
      "  *  if this cats for real , i bet my friend can tell you everything you need to know . ” youre a wonder , dvorov .\n",
      "  *  the next time the crowd split , i saw him .\n",
      "  *  i hope i have n ' t portrayed it as one big swamp , fraught with danger .\n",
      "  *  the feeling that she could outrun anything .\n",
      "  *  instead i bring you news . . . ” \" you ' re so unbelievably alienated from yourself , \" becky said .\n",
      "  *  to showcase just one brave stranger .\n",
      "  *  it felt good to have helped make that happen , to have been part of stimulating something inside their brains or hearts that caused them to care so passionately , and - oh wonder of wonders !\n",
      "  *  they stick to small paths and open fields , sleeping in ditches , pilfering from farmsteads clinging to the edge of hills : eggs , chickens , even dried maize .\n",
      "  *  young girls braided their hair in the shade , while their mothers worked over the fires .\n",
      "  *  in anticipation , jews in palestine began laying the groundwork for a greater sense of national identity .\n",
      "\n",
      "Atelic sentences that were predicted as telic:\n",
      "  *  when the russian government dammed the river , my parents decided that instead of dying with the river , they would stick with the people of the village theyd protected .\n",
      "  *  zarniwoop still quivered , but was silent .\n",
      "  *  jesuss entry into the temple caused a commotion ; after the passover dinner he was arrested by the temple priests , who were under direct roman rule .\n",
      "  *  they did n ' t . ” tiffany , she looked at the captain , grinned and flipped her greasy brown locks over her shoulder .\n",
      "  *  then i opened my eyes again and saw a girl lying in the street .\n",
      "  *  m . daladier , \" he read finding his place in the column , \" has been successful in pegging down the franc . . . . \" he held one in one hand and the other in the other , and experimented with the different ways of bringing them together .\n",
      "  *  \" his own wife told us that his violent tendencies had been escalating .\n",
      "  *  i wondered if the food delivered to my quarters the past few days had been similarly amazing .\n",
      "  *  he tapped it again , and despite being full of water and a small yellow babel fish which was gulping its way around rather dejectedly , it still chimed its deep and resonant chime as clearly and mesmerically as before .\n",
      "  *  this vigorous young man with his locksmith ' s cap on his head was one of those humble men who are always sufficient to themselves and do not think of comparing themselves with others , but calmly and thankfully accept whatever life offers to them and give simply and naturally all they can .\n"
     ]
    }
   ],
   "source": [
    "# Show X sentences for which the models were confident > 0.8 but wrong\n",
    "\n",
    "wrong_telic = []\n",
    "wrong_atelic = []\n",
    "\n",
    "for sent in test_sents['wrong']:\n",
    "    if sent['label'] == 0 and sent['probs'][0] < 0.2:\n",
    "        wrong_telic.append(sent['sent'])\n",
    "    \n",
    "    elif sent['label'] == 1 and sent['probs'][1] < 0.2:\n",
    "        wrong_atelic.append(sent['sent'])\n",
    "\n",
    "print('\"Confident\" wrong predictions (show 10):')\n",
    "\n",
    "print('\\nTelic sentences that were predicted as atelic:')\n",
    "for s in wrong_telic[:10]:\n",
    "    print('  *  ' + s)\n",
    "\n",
    "print('\\nAtelic sentences that were predicted as telic:')\n",
    "for s in wrong_atelic[:10]: \n",
    "    print('  *  ' + s)"
   ]
  },
  {
   "cell_type": "code",
   "execution_count": 5,
   "metadata": {},
   "outputs": [
    {
     "data": {
      "image/png": "[encoded data removed]",
      "text/plain": [
       "<Figure size 432x288 with 1 Axes>"
      ]
     },
     "metadata": {
      "needs_background": "light"
     },
     "output_type": "display_data"
    },
    {
     "data": {
      "image/png": "[encoded data removed]",
      "text/plain": [
       "<Figure size 432x288 with 1 Axes>"
      ]
     },
     "metadata": {
      "needs_background": "light"
     },
     "output_type": "display_data"
    }
   ],
   "source": [
    "# Print histograms of probabilities, *regardless* of label or prediction\n",
    "\n",
    "all_telic_probs = []\n",
    "all_atelic_probs = []\n",
    "\n",
    "for sent in test_sents['wrong']  + test_sents['right']:\n",
    "    all_telic_probs.append(sent['probs'][0])\n",
    "    all_atelic_probs.append(sent['probs'][1])\n",
    "\n",
    "plt.title('Probabibility of telic prediction')\n",
    "plt.hist(all_telic_probs)\n",
    "plt.show()\n",
    "plt.cla()\n",
    "\n",
    "plt.title('Probabibility of atelic prediction')\n",
    "plt.hist(all_atelic_probs)\n",
    "plt.show()\n",
    "# plt.cla()"
   ]
  },
  {
   "cell_type": "code",
   "execution_count": 6,
   "metadata": {},
   "outputs": [
    {
     "name": "stdout",
     "output_type": "stream",
     "text": [
      "Counts of verb \"feel\" in test + val:  14\n",
      "\n",
      "  *   0    it felt good to have helped make that happen , to have been part of stimulating something inside their brains or hearts that caused them to care so passionately , and - oh wonder of wonders !\n",
      "  *   1    zaphod felt he was teetering on the edge of madness and wondered if he shouldn t just jump over and have done with it .\n",
      "  *   0    the stake went down , there was a blur , and then my hands were empty and i felt pain under my jaw .\n",
      "  *   0    he was feeling more and more uncomfortable and wanted to end this visit to hedeby , but he relented .\n",
      "  *   0    she was forbidden to help , and jackson , of course , had never laundered a thing in his life ; when he ' d emerged into the giddy heat of the garage , he felt behind him and round he could comfortably insert his first two fingers into a rent in the material .\n",
      "  *   0    she felt only how sally was being mauled already , maltreated ; to get that good at rebuffing a man ' s attention she must ' ve had lots of practice , which was contradictory to what he ' d heard today .\n",
      "  *   0    he felt totally depleted from his race out of the necropolis .\n",
      "  *   0    he felt emboldened and took a step toward her .\n",
      "  *   0    my mind began to dissipate , but then i felt the pain withdraw and a lifeless voice said , this ones blood isnt worth drinking . ” hands closed on my neck and i felt my spine crack .\n",
      "  *   0    if you feel you must threaten someone , go and threaten her . '\n",
      "  *   0    immediately , i felt it grow warm and knew that i had done something very stupid .\n",
      "  *   1    this little doll was feeling like she ca nt go on anymore .\n",
      "  *   0    the castle , surrounded , assaulted , invaded , used and pierced , holds us all ; she ' d felt happiest with him when she was publicly vindicating his faith in her : when she got straight a ' s ; when her restaurants succeeded ; when reviewers loved her . \"\n",
      "  *   0    my finger feels weak upon the trigger , incapable of exerting any pressure .\n"
     ]
    },
    {
     "data": {
      "image/png": "[encoded data removed]",
      "text/plain": [
       "<Figure size 432x288 with 1 Axes>"
      ]
     },
     "metadata": {
      "needs_background": "light"
     },
     "output_type": "display_data"
    },
    {
     "data": {
      "image/png": "[encoded data removed]",
      "text/plain": [
       "<Figure size 432x288 with 1 Axes>"
      ]
     },
     "metadata": {
      "needs_background": "light"
     },
     "output_type": "display_data"
    }
   ],
   "source": [
    "# Plot distribution per verb, e.g. 'stand'\n",
    "\n",
    "per_verb = {}\n",
    "exclude_verbs = ['re', 's', 't', 'be', 'have', 'do', 'dr', 'ca', 'in', '\"', ',', 'a']\n",
    "\n",
    "for sent in test_sents['wrong'] + test_sents['right'] + val_sents['wrong'] + val_sents['right']:\n",
    "    if not sent['head_lemma'] in exclude_verbs: \n",
    "        if sent['head_lemma'] not in per_verb: \n",
    "            per_verb[sent['head_lemma']] = []\n",
    "        per_verb[sent['head_lemma']].append(sent)\n",
    "        \n",
    "# See list of verbs:\n",
    "# print(per_verb.keys())\n",
    "\n",
    "# some telic verbs: look, open, arrest, bling, break, cut, drop, give, shoot\n",
    "# some atelic verbs: see, admire, allow, begin, realize, believe, feel, prepare, visit, sit, stand\n",
    "\n",
    "# plot for ONLY one verb\n",
    "target_verb = 'feel'\n",
    "print('Counts of verb \"' + target_verb + '\" in test + val: ', len(per_verb[target_verb]))\n",
    "print()\n",
    "\n",
    "all_telic_probs = []\n",
    "all_atelic_probs = []\n",
    "for sent in per_verb[target_verb]:\n",
    "    print('  *  ', sent['label'], '  ', sent['sent'])\n",
    "    all_telic_probs.append(sent['probs'][0])\n",
    "    all_atelic_probs.append(sent['probs'][1])\n",
    "    \n",
    "plt.title('Probabibility of telic tag for verb: ' + target_verb)\n",
    "plt.hist(all_telic_probs)\n",
    "plt.show()\n",
    "plt.cla()\n",
    "\n",
    "plt.title('Probabibility of atelic tag for verb: ' + target_verb)\n",
    "plt.hist(all_atelic_probs)\n",
    "plt.show()"
   ]
  },
  {
   "cell_type": "code",
   "execution_count": 26,
   "metadata": {},
   "outputs": [
    {
     "name": "stdout",
     "output_type": "stream",
     "text": [
      "\t==== Wrong Predictions ==== \n",
      "Label\t Verb \t Sentence\n",
      "0 \t ate \t i ate a fish for lunch .\n",
      "0 \t built \t john built a house in a year .\n",
      "0 \t drank \t the cat drank all the milk .\n",
      "0 \t ran \t yesterday i ran a mile in under 10 minutes .\n",
      "0 \t lasted \t the classes lasted one hour and took place twice a week over a four - week period .\n",
      "0 \t opens \t she opens the door and the dog jumps in her lap .\n",
      "0 \t changed \t the advancements in technology have changed the world .\n",
      "0 \t made \t louise made the biggest progress of everyone this year .\n",
      "0 \t born \t jean was born in 1993 in lyon .\n",
      "\n",
      "\t==== Right Predictions ==== \n",
      "Label\t Verb \t Sentence\n",
      "0 \t spilled \t i spilled the milk .\n",
      "0 \t checked \t the inspector checked our tickets after the first stop .\n",
      "0 \t hung \t i hung the picture on the wall .\n",
      "0 \t broke \t the vase broke in a million pieces .\n",
      "0 \t kicked \t john kicked the door shut .\n",
      "0 \t opened \t i opened the juice bottle .\n",
      "0 \t written \t kim has written a song .\n",
      "0 \t fell \t you fell for my trap again .\n",
      "0 \t destroyed \t the dog destroyed the couch .\n",
      "0 \t cut \t she cut one single rose from the bush .\n",
      "0 \t cooled \t the soup cooled in an hour .\n",
      "1 \t eat \t i eat a fish for lunch on fridays .\n",
      "1 \t building \t john is building good houses with his construction company .\n",
      "1 \t watched \t john watched tv .\n",
      "1 \t spill \t i always spill milk when i pour it in my mug .\n",
      "1 \t running \t i ' m running 10 miles every day for my training process .\n",
      "1 \t checking \t the inspectors are always checking every document very carefully .\n",
      "1 \t last \t the damage may last for many years .\n",
      "1 \t swim \t we swim in the lake in the afternoons .\n",
      "1 \t sleeps \t in the summer months james sleeps in every morning .\n",
      "1 \t floats \t cork floats on water .\n",
      "1 \t lives \t my grandfather still lives in his childhood home .\n",
      "1 \t laughs \t nobody laughs at my corny jokes .\n",
      "1 \t worked \t jenny worked as a doctor her whole life .\n",
      "1 \t working \t i am working on a big project now .\n",
      "1 \t singing \t kim is singing .\n",
      "1 \t writing \t kim is writing a song .\n",
      "1 \t making \t grandma is making pancakes for breakfast .\n",
      "1 \t changing \t he is constantly changing his script .\n",
      "1 \t live \t we live in a democratic age .\n",
      "1 \t revolves \t the earth revolves around the sun .\n"
     ]
    }
   ],
   "source": [
    "# Look at the performance of the qualitative sets\n",
    "# NB: the label printed here is the *correct* annotation, not the prediction\n",
    "\n",
    "print('\\t==== Wrong Predictions ==== \\nLabel\\t Verb \\t Sentence')\n",
    "for sent in unseen_sents['wrong']:\n",
    "    print(sent['label'], '\\t', sent['head'], '\\t', sent['sent'])\n",
    "    \n",
    "print('\\n\\t==== Right Predictions ==== \\nLabel\\t Verb \\t Sentence')\n",
    "for sent in unseen_sents['right']:\n",
    "    print(sent['label'], '\\t', sent['head'], '\\t', sent['sent'])"
   ]
  },
  {
   "cell_type": "code",
   "execution_count": 27,
   "metadata": {},
   "outputs": [
    {
     "name": "stdout",
     "output_type": "stream",
     "text": [
      "\t==== Wrong Predictions ==== \n",
      "Label\t Verb \t Sentence\n",
      "0 \t walked \t the girl walked a kilometer yesterday .\n",
      "1 \t receive \t i will receive new stock on fridays .\n",
      "0 \t eating \t the boy is eating an apple .\n",
      "1 \t made \t the prime minister made that declaration for months .\n",
      "0 \t painted \t the workers painted the house in an hour .\n",
      "1 \t stopped \t i stopped reading the book at 5 pm .\n",
      "0 \t freezing \t the pond is freezing over .\n",
      "0 \t draws \t the artist draws a painting .\n",
      "0 \t noticed \t she noticed him .\n",
      "1 \t looked \t she looked at him .\n",
      "0 \t ate \t she ate that sandwich .\n",
      "\n",
      "\t==== Right Predictions ==== \n",
      "Label\t Verb \t Sentence\n",
      "1 \t walked \t the girl walked yesterday .\n",
      "0 \t receive \t i will receive new stock on friday .\n",
      "1 \t eating \t the boy is eating apples .\n",
      "0 \t drank \t i drank the whole bottle .\n",
      "1 \t drank \t i drank juice .\n",
      "0 \t read \t i read the book in an hour .\n",
      "1 \t read \t i read the book for an hour .\n",
      "0 \t made \t the prime minister made that declaration yesterday .\n",
      "1 \t painted \t the workers painted the house for an hour .\n",
      "0 \t chased \t the hunters chased the deer away .\n",
      "1 \t chased \t the hunters chased the deer .\n",
      "0 \t finished \t i finished reading the book at 5 pm .\n",
      "1 \t s \t it ' s freezing outside .\n",
      "1 \t occupied \t the hunter occupied the mountain hut .\n",
      "0 \t reached \t the hunter reached the mountain hut .\n",
      "0 \t put \t i put on my red dress .\n",
      "1 \t wore \t i wore my red dress .\n",
      "1 \t studies \t the artist studies a painting .\n",
      "0 \t entered \t the policemen entered the church .\n",
      "1 \t watched \t the policemen watched the church .\n",
      "0 \t caught \t they caught the boar .\n",
      "1 \t hunted \t they hunted the boar .\n",
      "0 \t fell \t she fell asleep at 8 pm .\n",
      "1 \t slept \t she slept at 8 pm .\n",
      "0 \t died \t the people died from starvation .\n",
      "1 \t suffered \t the people suffered from starvation .\n",
      "0 \t built \t they built the house .\n",
      "1 \t building \t they have been building the house .\n",
      "1 \t eating \t she has been eating that sandwich .\n"
     ]
    }
   ],
   "source": [
    "# Look at the performance of the minimum sets (only for telicity)\n",
    "# NB: the label printed here is the *correct* annotation, not the prediction\n",
    "\n",
    "print('\\t==== Wrong Predictions ==== \\nLabel\\t Verb \\t Sentence')\n",
    "for sent in min_sents['wrong']:\n",
    "    print(sent['label'], '\\t', sent['head'], '\\t', sent['sent'])\n",
    "    \n",
    "print('\\n\\t==== Right Predictions ==== \\nLabel\\t Verb \\t Sentence')\n",
    "for sent in min_sents['right']:\n",
    "    print(sent['label'], '\\t', sent['head'], '\\t', sent['sent'])"
   ]
  },
  {
   "cell_type": "code",
   "execution_count": null,
   "metadata": {},
   "outputs": [],
   "source": []
  }
 ],
 "metadata": {
  "kernelspec": {
   "display_name": "Python 3",
   "language": "python",
   "name": "python3"
  },
  "language_info": {
   "codemirror_mode": {
    "name": "ipython",
    "version": 3
   },
   "file_extension": ".py",
   "mimetype": "text/x-python",
   "name": "python",
   "nbconvert_exporter": "python",
   "pygments_lexer": "ipython3",
   "version": "3.8.3"
  }
 },
 "nbformat": 4,
 "nbformat_minor": 4
}
